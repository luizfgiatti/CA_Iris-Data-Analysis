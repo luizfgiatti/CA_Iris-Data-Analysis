{
 "cells": [
  {
   "cell_type": "markdown",
   "id": "a15f9754-0a22-416a-b073-cfd83a1a4e6a",
   "metadata": {},
   "source": [
    "# Problem 3: NumPy Array Manipulations and Statistical Operations\n"
   ]
  },
  {
   "cell_type": "code",
   "execution_count": 33,
   "id": "64725472-ab4f-455e-96ea-e0fec8596375",
   "metadata": {},
   "outputs": [],
   "source": [
    "# Import NumPy for array operations\n",
    "import numpy as np\n",
    "\n",
    "def create_special_array(rows=5, cols=5):\n",
    "    \"\"\"\n",
    "    Creates a 2D NumPy array where each row's sum is even, and the total sum is a multiple of 5.\n",
    "    \n",
    "    Args:\n",
    "        rows (int): Number of rows in the array.\n",
    "        cols (int): Number of columns in the array.\n",
    "    \n",
    "    Returns:\n",
    "        np.ndarray: A 2D array meeting the specified conditions.\n",
    "    \"\"\"\n",
    "    # Initialize an array with random integers\n",
    "    array = np.random.randint(1, 10, size=(rows, cols))\n",
    "    \n",
    "    # Adjust each row to ensure its sum is even\n",
    "    for i in range(rows):\n",
    "        if np.sum(array[i]) % 2 != 0:\n",
    "            # Adjust the first element in the row if the sum is odd\n",
    "            array[i, 0] += 1\n",
    "    \n",
    "    # Ensure the total sum of the array is a multiple of 5\n",
    "    while np.sum(array) % 5 != 0:\n",
    "        # Adjust a random element to make the total sum a multiple of 5\n",
    "        row, col = np.random.randint(0, rows), np.random.randint(0, cols)\n",
    "        array[row, col] += 1\n",
    "    \n",
    "    return array\n",
    "\n",
    "# Test the f\n"
   ]
  },
  {
   "cell_type": "code",
   "execution_count": 34,
   "id": "cf82b639-cb64-430f-bdce-dee6a7ec50c3",
   "metadata": {},
   "outputs": [
    {
     "name": "stdout",
     "output_type": "stream",
     "text": [
      "Array Mean: 4.0\n",
      "Values Divisible by Both 3 and 5: []\n"
     ]
    }
   ],
   "source": [
    "def analyze_array(array):\n",
    "    \"\"\"\n",
    "    Analyzes a 2D NumPy array to calculate the mean and find values divisible by both 3 and 5.\n",
    "    \n",
    "    Args:\n",
    "        array (np.ndarray): The NumPy array to analyze.\n",
    "    \n",
    "    Returns:\n",
    "        dict: A dictionary containing the mean of the array and a list of values divisible by both 3 and 5.\n",
    "    \"\"\"\n",
    "    # Calculate the mean of the array\n",
    "    array_mean = np.mean(array)\n",
    "    \n",
    "    # Find values divisible by both 3 and 5\n",
    "    divisible_by_3_and_5 = [element for element in array.flatten() if element % 3 == 0 and element % 5 == 0]\n",
    "    \n",
    "    return {\n",
    "        \"mean\": array_mean,\n",
    "        \"divisible_by_3_and_5\": divisible_by_3_and_5\n",
    "    }\n",
    "\n",
    "# Test the function to analyze the special array\n",
    "analysis_results = analyze_array(special_array)\n",
    "print(\"Array Mean:\", analysis_results[\"mean\"])\n",
    "print(\"Values Divisible by Both 3 and 5:\", analysis_results[\"divisible_by_3_and_5\"])\n"
   ]
  },
  {
   "cell_type": "code",
   "execution_count": 35,
   "id": "7027e52f-bc5c-45b4-b1b6-636845bed2d0",
   "metadata": {},
   "outputs": [
    {
     "name": "stdout",
     "output_type": "stream",
     "text": [
      "Standard Deviation: 2.209072203437452\n",
      "Median: 4.0\n",
      "Variance per Column: [6.16 2.8  6.24 5.84 2.96]\n"
     ]
    }
   ],
   "source": [
    "def array_stats(array):\n",
    "    \"\"\"\n",
    "    Calculates additional statistics for a 2D NumPy array, including standard deviation, median,\n",
    "    and variance per column.\n",
    "    \n",
    "    Args:\n",
    "        array (np.ndarray): The NumPy array to analyze.\n",
    "    \n",
    "    Returns:\n",
    "        dict: A dictionary containing the standard deviation, median, and variance per column.\n",
    "    \"\"\"\n",
    "    # Calculate standard deviation of all elements\n",
    "    std_dev = np.std(array)\n",
    "    \n",
    "    # Calculate median of all elements\n",
    "    median = np.median(array)\n",
    "    \n",
    "    # Calculate variance for each column\n",
    "    variance_per_column = np.var(array, axis=0)\n",
    "    \n",
    "    return {\n",
    "        \"standard_deviation\": std_dev,\n",
    "        \"median\": median,\n",
    "        \"variance_per_column\": variance_per_column\n",
    "    }\n",
    "\n",
    "# Test the function to calculate additional statistics\n",
    "stats_results = array_stats(special_array)\n",
    "print(\"Standard Deviation:\", stats_results[\"standard_deviation\"])\n",
    "print(\"Median:\", stats_results[\"median\"])\n",
    "print(\"Variance per Column:\", stats_results[\"variance_per_column\"])\n"
   ]
  }
 ],
 "metadata": {
  "kernelspec": {
   "display_name": "Python 3 (ipykernel)",
   "language": "python",
   "name": "python3"
  },
  "language_info": {
   "codemirror_mode": {
    "name": "ipython",
    "version": 3
   },
   "file_extension": ".py",
   "mimetype": "text/x-python",
   "name": "python",
   "nbconvert_exporter": "python",
   "pygments_lexer": "ipython3",
   "version": "3.12.2"
  }
 },
 "nbformat": 4,
 "nbformat_minor": 5
}
