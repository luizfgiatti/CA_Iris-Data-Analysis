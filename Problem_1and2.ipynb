{
 "cells": [
  {
   "cell_type": "markdown",
   "id": "457ae2a1-ff1f-4054-898a-ab7abc9042f2",
   "metadata": {},
   "source": [
    "# Problem 1, Task 1: Fetch APOD Data for a Specific Date"
   ]
  },
  {
   "cell_type": "code",
   "execution_count": 32,
   "id": "d5caffcd-5b5e-40ca-ae73-2d81e5e93650",
   "metadata": {},
   "outputs": [],
   "source": [
    "import os\n",
    "\n",
    "# Setting up the API key as an environment variable (temporary for this session)\n",
    "os.environ['API_KEY'] = 'WYKYQOQ7Kjs3F3dLDauzrpKluaazcii3QjVIHo5Z'"
   ]
  },
  {
   "cell_type": "code",
   "execution_count": 34,
   "id": "f59abaa7-3a45-4ba7-bcc5-c0c4d733df6b",
   "metadata": {},
   "outputs": [],
   "source": [
    "import requests\n",
    "\n",
    "def get_apod_data(api_key, date):\n",
    "    \"\"\"\n",
    "    Get NASA's Astronomy Picture of the Day (APOD) for a specific date.\n",
    "    \n",
    "    Args:\n",
    "        api_key (str): NASA API key.\n",
    "        date (str): Date in 'YYYY-MM-DD' format.\n",
    "\n",
    "    Returns:\n",
    "        dict: Contains date, title, URL, explanation, and media type of the APOD.\n",
    "    \"\"\"\n",
    "    try:\n",
    "        # Create the URL with the API key and date\n",
    "        url = f\"https://api.nasa.gov/planetary/apod?api_key={api_key}&date={date}\"\n",
    "        \n",
    "        # Send the request\n",
    "        response = requests.get(url)\n",
    "        \n",
    "        # Check if the request worked\n",
    "        response.raise_for_status()\n",
    "        \n",
    "        # Convert the response data to JSON format and return the needed parts\n",
    "        data = response.json()\n",
    "        return {\n",
    "            \"date\": data[\"date\"],\n",
    "            \"title\": data[\"title\"],\n",
    "            \"url\": data[\"url\"],\n",
    "            \"explanation\": data[\"explanation\"],\n",
    "            \"media_type\": data[\"media_type\"]\n",
    "        }\n",
    "    except requests.exceptions.RequestException as e:\n",
    "        # Print error message if something goes wrong with the request\n",
    "        print(f\"Error fetching APOD data for {date}: {e}\")\n",
    "        return None\n"
   ]
  },
  {
   "cell_type": "code",
   "execution_count": 36,
   "id": "67d07ae7-7bf8-4940-9f65-5d5560c107d2",
   "metadata": {},
   "outputs": [
    {
     "name": "stdout",
     "output_type": "stream",
     "text": [
      "{'date': '2020-01-01', 'title': 'Betelgeuse Imagined', 'url': 'https://apod.nasa.gov/apod/image/2001/BetelgeuseImagined_EsoCalcada_960.jpg', 'explanation': \"Why is Betelgeuse fading?  No one knows.  Betelgeuse, one of the brightest and most recognized stars in the night sky, is only half as bright as it used to be only five months ago.  Such variability is likely just  normal behavior for this famously variable supergiant, but the recent dimming has rekindled discussion on how long it may be before Betelgeuse does go supernova.  Known for its red color, Betelgeuse is one of the few stars to be resolved by modern telescopes, although only barely.  The featured artist's illustration imagines how Betelgeuse might look up close. Betelgeuse is thought to have a complex and tumultuous surface that frequently throws impressive flares.  Were it to replace the Sun (not recommended), its surface would extend out near the orbit of Jupiter, while gas plumes would bubble out past Neptune.  Since Betelgeuse is about 700 light years away, its eventual supernova will not endanger life on Earth even though its brightness may rival that of a full Moon.  Astronomers -- both amateur and professional -- will surely continue to monitor Betelgeuse as this new decade unfolds.    Free Presentation: APOD Editor to show best astronomy images of 2019 -- and the decade -- in NYC on January 3\", 'media_type': 'image'}\n"
     ]
    }
   ],
   "source": [
    "# Get the API key from the environment\n",
    "api_key = os.getenv('API_KEY')\n",
    "\n",
    "# Set a test date\n",
    "sample_date = '2020-01-01'\n",
    "\n",
    "# Call the function and print the result to check if it works\n",
    "sample_data = get_apod_data(api_key, sample_date)\n",
    "print(sample_data)\n"
   ]
  },
  {
   "cell_type": "code",
   "execution_count": 38,
   "id": "c24f4521-5930-4e6a-b5ca-2e79ef2ea8b8",
   "metadata": {},
   "outputs": [],
   "source": [
    "import time\n",
    "from datetime import datetime, timedelta\n",
    "\n",
    "def fetch_multiple_apod_data(api_key, start_date, end_date):\n",
    "    \"\"\"\n",
    "    Fetch APOD data for a range of dates.\n",
    "    \n",
    "    Args:\n",
    "        api_key (str): NASA API key.\n",
    "        start_date (str): Start date in 'YYYY-MM-DD' format.\n",
    "        end_date (str): End date in 'YYYY-MM-DD' format.\n",
    "\n",
    "    Returns:\n",
    "        list: A list of APOD data entries for each date in the range.\n",
    "    \"\"\"\n",
    "    # Convert the start and end dates to datetime objects\n",
    "    current_date = datetime.strptime(start_date, \"%Y-%m-%d\")\n",
    "    end_date = datetime.strptime(end_date, \"%Y-%m-%d\")\n",
    "    \n",
    "    apod_data_list = []  # Store the results here\n",
    "\n",
    "    # Loop through each date in the range\n",
    "    while current_date <= end_date:\n",
    "        # Convert the date to string format\n",
    "        date_str = current_date.strftime(\"%Y-%m-%d\")\n",
    "        \n",
    "        # Get APOD data for this date\n",
    "        data = get_apod_data(api_key, date_str)\n",
    "        if data:\n",
    "            apod_data_list.append(data)\n",
    "        \n",
    "        # Wait 1 second to avoid hitting the API too fast\n",
    "        time.sleep(1)\n",
    "        \n",
    "        # Go to the next date\n",
    "        current_date += timedelta(days=1)\n",
    "    \n",
    "    return apod_data_list\n"
   ]
  },
  {
   "cell_type": "code",
   "execution_count": 40,
   "id": "265bac3f-63e0-4759-9edf-0efdd8d9b50e",
   "metadata": {},
   "outputs": [],
   "source": [
    "import json\n",
    "\n",
    "def write_data_to_json(apod_data_list, filename=\"apod_data.json\"):\n",
    "    \"\"\"\n",
    "    Write APOD data to a JSON file.\n",
    "    \n",
    "    Args:\n",
    "        apod_data_list (list): List of APOD data.\n",
    "        filename (str): JSON file name.\n",
    "    \"\"\"\n",
    "    try:\n",
    "        # Open the file to add data without overwriting\n",
    "        with open(filename, 'a') as json_file:\n",
    "            for entry in apod_data_list:\n",
    "                json.dump(entry, json_file)\n",
    "                json_file.write(\"\\n\")  # Separate each entry\n",
    "        print(f\"Data saved to {filename}.\")\n",
    "    except IOError as e:\n",
    "        # Print an error message if there's an issue saving the file\n",
    "        print(f\"Error writing to file: {e}\")\n"
   ]
  },
  {
   "cell_type": "code",
   "execution_count": 42,
   "id": "8145c7de-c83b-4f6f-b0a1-cd698e98b59a",
   "metadata": {},
   "outputs": [
    {
     "name": "stdout",
     "output_type": "stream",
     "text": [
      "Data saved to apod_data.json.\n"
     ]
    }
   ],
   "source": [
    "# Get API key and set the date range\n",
    "api_key = os.getenv('API_KEY')\n",
    "start_date = '2020-01-01'\n",
    "end_date = '2020-01-10'\n",
    "\n",
    "# Get the APOD data for the date range\n",
    "apod_data_list = fetch_multiple_apod_data(api_key, start_date, end_date)\n",
    "\n",
    "# Save the data to a JSON file\n",
    "write_data_to_json(apod_data_list)\n"
   ]
  },
  {
   "cell_type": "markdown",
   "id": "6bede7c9-94ae-43c5-a2de-cb6c8176a14e",
   "metadata": {},
   "source": [
    "# Problem 2: JSON Data Reading, Looping, and Processing"
   ]
  },
  {
   "cell_type": "code",
   "execution_count": 44,
   "id": "41ab7dfa-0b40-4131-a3f7-313b9ac0b9e7",
   "metadata": {},
   "outputs": [],
   "source": [
    "import json\n",
    "\n",
    "def read_apod_data(filename=\"apod_data.json\"):\n",
    "    \"\"\"\n",
    "    Reads and loads data from a JSON file.\n",
    "    \n",
    "    Args:\n",
    "        filename (str): Name of the JSON file to load.\n",
    "    \n",
    "    Returns:\n",
    "        list: A list of dictionaries with APOD data if successful, or None if there's an error.\n",
    "    \"\"\"\n",
    "    try:\n",
    "        # Open the file and read each line as a JSON object\n",
    "        with open(filename, 'r') as json_file:\n",
    "            apod_data = [json.loads(line) for line in json_file]\n",
    "        return apod_data\n",
    "    except FileNotFoundError:\n",
    "        print(f\"Error: The file {filename} was not found.\")\n",
    "        return None\n",
    "    except IOError as e:\n",
    "        print(f\"Error reading file: {e}\")\n",
    "        return None\n"
   ]
  },
  {
   "cell_type": "code",
   "execution_count": 46,
   "id": "aee7cefc-10ae-4642-a63d-18ab1daeccac",
   "metadata": {},
   "outputs": [
    {
     "name": "stdout",
     "output_type": "stream",
     "text": [
      "First entry: {'date': '2020-01-01', 'title': 'Betelgeuse Imagined', 'url': 'https://apod.nasa.gov/apod/image/2001/BetelgeuseImagined_EsoCalcada_960.jpg', 'explanation': \"Why is Betelgeuse fading?  No one knows.  Betelgeuse, one of the brightest and most recognized stars in the night sky, is only half as bright as it used to be only five months ago.  Such variability is likely just  normal behavior for this famously variable supergiant, but the recent dimming has rekindled discussion on how long it may be before Betelgeuse does go supernova.  Known for its red color, Betelgeuse is one of the few stars to be resolved by modern telescopes, although only barely.  The featured artist's illustration imagines how Betelgeuse might look up close. Betelgeuse is thought to have a complex and tumultuous surface that frequently throws impressive flares.  Were it to replace the Sun (not recommended), its surface would extend out near the orbit of Jupiter, while gas plumes would bubble out past Neptune.  Since Betelgeuse is about 700 light years away, its eventual supernova will not endanger life on Earth even though its brightness may rival that of a full Moon.  Astronomers -- both amateur and professional -- will surely continue to monitor Betelgeuse as this new decade unfolds.    Free Presentation: APOD Editor to show best astronomy images of 2019 -- and the decade -- in NYC on January 3\", 'media_type': 'image'}\n"
     ]
    }
   ],
   "source": [
    "# Load the data from the JSON file and print the first entry to check\n",
    "apod_data = read_apod_data()\n",
    "\n",
    "# Print the first entry to confirm it loaded correctly\n",
    "if apod_data:\n",
    "    print(\"First entry:\", apod_data[0])\n"
   ]
  },
  {
   "cell_type": "code",
   "execution_count": 48,
   "id": "c38cd85b-f20c-45a1-8f77-fbc81ff6cd83",
   "metadata": {},
   "outputs": [],
   "source": [
    "def analyze_apod_data(apod_data):\n",
    "    \"\"\"\n",
    "    Analyzes APOD data to count images and videos and find the entry with the longest explanation.\n",
    "    \n",
    "    Args:\n",
    "        apod_data (list): List of dictionaries containing APOD data.\n",
    "    \n",
    "    Returns:\n",
    "        dict: A summary with counts of images and videos, and the date with the longest explanation.\n",
    "    \"\"\"\n",
    "    # Initialize counters and variables for the longest explanation\n",
    "    image_count = 0\n",
    "    video_count = 0\n",
    "    longest_explanation = \"\"\n",
    "    longest_explanation_date = \"\"\n",
    "\n",
    "    # Loop through each entry in the APOD data\n",
    "    for entry in apod_data:\n",
    "        # Count media types\n",
    "        if entry['media_type'] == 'image':\n",
    "            image_count += 1\n",
    "        elif entry['media_type'] == 'video':\n",
    "            video_count += 1\n",
    "        \n",
    "        # Check for the longest explanation\n",
    "        if len(entry['explanation']) > len(longest_explanation):\n",
    "            longest_explanation = entry['explanation']\n",
    "            longest_explanation_date = entry['date']\n",
    "\n",
    "    # Return a summary dictionary\n",
    "    return {\n",
    "        \"total_images\": image_count,\n",
    "        \"total_videos\": video_count,\n",
    "        \"longest_explanation_date\": longest_explanation_date,\n",
    "        \"longest_explanation_length\": len(longest_explanation)\n",
    "    }\n"
   ]
  },
  {
   "cell_type": "code",
   "execution_count": 50,
   "id": "72d7489d-ca91-4e55-8c1d-d66ee8dc5212",
   "metadata": {},
   "outputs": [
    {
     "name": "stdout",
     "output_type": "stream",
     "text": [
      "Analysis Summary:\n",
      "Total images: 40\n",
      "Total videos: 0\n",
      "Date with the longest explanation: 2020-01-01\n",
      "Length of the longest explanation: 1228 characters\n"
     ]
    }
   ],
   "source": [
    "# Analyze the data and print the results\n",
    "analysis_summary = analyze_apod_data(apod_data)\n",
    "\n",
    "print(\"Analysis Summary:\")\n",
    "print(f\"Total images: {analysis_summary['total_images']}\")\n",
    "print(f\"Total videos: {analysis_summary['total_videos']}\")\n",
    "print(f\"Date with the longest explanation: {analysis_summary['longest_explanation_date']}\")\n",
    "print(f\"Length of the longest explanation: {analysis_summary['longest_explanation_length']} characters\")\n"
   ]
  },
  {
   "cell_type": "code",
   "execution_count": 56,
   "id": "f7fb1210-6a0d-470d-b2de-62ed0ce650dc",
   "metadata": {},
   "outputs": [],
   "source": [
    "import csv\n",
    "\n",
    "def write_apod_data_to_csv(apod_data, filename=\"apod_data.csv\"):\n",
    "    \"\"\"\n",
    "    Writes selected fields from APOD data to a CSV file.\n",
    "    \n",
    "    Args:\n",
    "        apod_data (list): List of dictionaries containing APOD data.\n",
    "        filename (str): Name of the CSV file to write to.\n",
    "    \n",
    "    Returns:\n",
    "        None\n",
    "    \"\"\"\n",
    "    try:\n",
    "        # Open the CSV file in write mode\n",
    "        with open(filename, 'w', newline='') as csvfile:\n",
    "            # Define the field names for the CSV\n",
    "            fieldnames = ['date', 'title', 'media_type', 'url']\n",
    "            writer = csv.DictWriter(csvfile, fieldnames=fieldnames)\n",
    "\n",
    "            # Write the header (column names) to the CSV\n",
    "            writer.writeheader()\n",
    "\n",
    "            # Write each entry from the APOD data to the CSV\n",
    "            for entry in apod_data:\n",
    "                writer.writerow({\n",
    "                    'date': entry['date'],\n",
    "                    'title': entry['title'],\n",
    "                    'media_type': entry['media_type'],\n",
    "                    'url': entry['url']\n",
    "                })\n",
    "\n",
    "        print(f\"Data successfully written to {filename}.\")\n",
    "    except IOError as e:\n",
    "        print(f\"Error writing to CSV file: {e}\")\n"
   ]
  },
  {
   "cell_type": "code",
   "execution_count": 58,
   "id": "f935bfa6-2f64-4855-9d8e-4e52be15ba58",
   "metadata": {},
   "outputs": [
    {
     "name": "stdout",
     "output_type": "stream",
     "text": [
      "Data successfully written to apod_data.csv.\n"
     ]
    }
   ],
   "source": [
    "# Write the APOD data to a CSV file\n",
    "write_apod_data_to_csv(apod_data)"
   ]
  }
 ],
 "metadata": {
  "kernelspec": {
   "display_name": "Python 3 (ipykernel)",
   "language": "python",
   "name": "python3"
  },
  "language_info": {
   "codemirror_mode": {
    "name": "ipython",
    "version": 3
   },
   "file_extension": ".py",
   "mimetype": "text/x-python",
   "name": "python",
   "nbconvert_exporter": "python",
   "pygments_lexer": "ipython3",
   "version": "3.12.2"
  }
 },
 "nbformat": 4,
 "nbformat_minor": 5
}
